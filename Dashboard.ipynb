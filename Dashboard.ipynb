{
 "cells": [
  {
   "cell_type": "code",
   "execution_count": 114,
   "metadata": {},
   "outputs": [],
   "source": [
    "import pandas as pd\n",
    "import numpy as np"
   ]
  },
  {
   "cell_type": "code",
   "execution_count": 115,
   "metadata": {},
   "outputs": [
    {
     "data": {
      "text/html": [
       "<div>\n",
       "<style scoped>\n",
       "    .dataframe tbody tr th:only-of-type {\n",
       "        vertical-align: middle;\n",
       "    }\n",
       "\n",
       "    .dataframe tbody tr th {\n",
       "        vertical-align: top;\n",
       "    }\n",
       "\n",
       "    .dataframe thead th {\n",
       "        text-align: right;\n",
       "    }\n",
       "</style>\n",
       "<table border=\"1\" class=\"dataframe\">\n",
       "  <thead>\n",
       "    <tr style=\"text-align: right;\">\n",
       "      <th></th>\n",
       "      <th>ID</th>\n",
       "      <th>Likes</th>\n",
       "      <th>Replies</th>\n",
       "      <th>Retweets</th>\n",
       "      <th>Time</th>\n",
       "      <th>Tweet</th>\n",
       "      <th>Emotion</th>\n",
       "      <th>Topic_number</th>\n",
       "      <th>Date</th>\n",
       "      <th>Timestamp</th>\n",
       "      <th>Time Bin</th>\n",
       "    </tr>\n",
       "  </thead>\n",
       "  <tbody>\n",
       "    <tr>\n",
       "      <th>1</th>\n",
       "      <td>9.010000e+17</td>\n",
       "      <td>0.0</td>\n",
       "      <td>0.0</td>\n",
       "      <td>0.0</td>\n",
       "      <td>2017-08-25 14:44:00</td>\n",
       "      <td>If youre able give blood at RedCrossDonate blo...</td>\n",
       "      <td>disapproval</td>\n",
       "      <td>48</td>\n",
       "      <td>2017-08-25</td>\n",
       "      <td>14:44:00</td>\n",
       "      <td>12:00:00</td>\n",
       "    </tr>\n",
       "    <tr>\n",
       "      <th>5</th>\n",
       "      <td>9.010000e+17</td>\n",
       "      <td>0.0</td>\n",
       "      <td>0.0</td>\n",
       "      <td>0.0</td>\n",
       "      <td>2017-08-25 14:44:00</td>\n",
       "      <td>Hi Maria Will Bush AirportHobby Expect SuperSt...</td>\n",
       "      <td>curiosity</td>\n",
       "      <td>19</td>\n",
       "      <td>2017-08-25</td>\n",
       "      <td>14:44:00</td>\n",
       "      <td>12:00:00</td>\n",
       "    </tr>\n",
       "    <tr>\n",
       "      <th>8</th>\n",
       "      <td>9.010000e+17</td>\n",
       "      <td>1.0</td>\n",
       "      <td>0.0</td>\n",
       "      <td>0.0</td>\n",
       "      <td>2017-08-25 14:44:00</td>\n",
       "      <td>To everyone in TexasPlease get to safety and i...</td>\n",
       "      <td>caring</td>\n",
       "      <td>19</td>\n",
       "      <td>2017-08-25</td>\n",
       "      <td>14:44:00</td>\n",
       "      <td>12:00:00</td>\n",
       "    </tr>\n",
       "    <tr>\n",
       "      <th>9</th>\n",
       "      <td>9.010000e+17</td>\n",
       "      <td>37.0</td>\n",
       "      <td>2.0</td>\n",
       "      <td>21.0</td>\n",
       "      <td>2017-08-25 14:44:00</td>\n",
       "      <td>Texans Told to Evacuate Ahead of Hurricane Har...</td>\n",
       "      <td>caring</td>\n",
       "      <td>48</td>\n",
       "      <td>2017-08-25</td>\n",
       "      <td>14:44:00</td>\n",
       "      <td>12:00:00</td>\n",
       "    </tr>\n",
       "    <tr>\n",
       "      <th>35</th>\n",
       "      <td>9.010000e+17</td>\n",
       "      <td>4.0</td>\n",
       "      <td>0.0</td>\n",
       "      <td>4.0</td>\n",
       "      <td>2017-08-25 14:45:00</td>\n",
       "      <td>Are you tech ready for hurricaneHurricanePrep ...</td>\n",
       "      <td>curiosity</td>\n",
       "      <td>48</td>\n",
       "      <td>2017-08-25</td>\n",
       "      <td>14:45:00</td>\n",
       "      <td>12:00:00</td>\n",
       "    </tr>\n",
       "    <tr>\n",
       "      <th>...</th>\n",
       "      <td>...</td>\n",
       "      <td>...</td>\n",
       "      <td>...</td>\n",
       "      <td>...</td>\n",
       "      <td>...</td>\n",
       "      <td>...</td>\n",
       "      <td>...</td>\n",
       "      <td>...</td>\n",
       "      <td>...</td>\n",
       "      <td>...</td>\n",
       "      <td>...</td>\n",
       "    </tr>\n",
       "    <tr>\n",
       "      <th>98156</th>\n",
       "      <td>9.030000e+17</td>\n",
       "      <td>0.0</td>\n",
       "      <td>0.0</td>\n",
       "      <td>0.0</td>\n",
       "      <td>2017-08-29 13:52:00</td>\n",
       "      <td>Why we wont be ready for the next Hurricane Ha...</td>\n",
       "      <td>confusion</td>\n",
       "      <td>48</td>\n",
       "      <td>2017-08-29</td>\n",
       "      <td>13:52:00</td>\n",
       "      <td>12:00:00</td>\n",
       "    </tr>\n",
       "    <tr>\n",
       "      <th>98204</th>\n",
       "      <td>9.030000e+17</td>\n",
       "      <td>0.0</td>\n",
       "      <td>0.0</td>\n",
       "      <td>0.0</td>\n",
       "      <td>2017-08-29 13:55:00</td>\n",
       "      <td>Houstons hotel market already bad is poised to...</td>\n",
       "      <td>disappointment</td>\n",
       "      <td>19</td>\n",
       "      <td>2017-08-29</td>\n",
       "      <td>13:55:00</td>\n",
       "      <td>12:00:00</td>\n",
       "    </tr>\n",
       "    <tr>\n",
       "      <th>98205</th>\n",
       "      <td>9.030000e+17</td>\n",
       "      <td>0.0</td>\n",
       "      <td>0.0</td>\n",
       "      <td>0.0</td>\n",
       "      <td>2017-08-29 13:55:00</td>\n",
       "      <td>Give wisely in the wake of Hurricane Harveys d...</td>\n",
       "      <td>caring</td>\n",
       "      <td>48</td>\n",
       "      <td>2017-08-29</td>\n",
       "      <td>13:55:00</td>\n",
       "      <td>12:00:00</td>\n",
       "    </tr>\n",
       "    <tr>\n",
       "      <th>98208</th>\n",
       "      <td>9.030000e+17</td>\n",
       "      <td>0.0</td>\n",
       "      <td>0.0</td>\n",
       "      <td>0.0</td>\n",
       "      <td>2017-08-29 13:55:00</td>\n",
       "      <td>Watching footage and looking at photo of all o...</td>\n",
       "      <td>sadness</td>\n",
       "      <td>19</td>\n",
       "      <td>2017-08-29</td>\n",
       "      <td>13:55:00</td>\n",
       "      <td>12:00:00</td>\n",
       "    </tr>\n",
       "    <tr>\n",
       "      <th>98211</th>\n",
       "      <td>9.030000e+17</td>\n",
       "      <td>0.0</td>\n",
       "      <td>0.0</td>\n",
       "      <td>0.0</td>\n",
       "      <td>2017-08-29 13:55:00</td>\n",
       "      <td>You dumb liberalsDont you realize that Hurrica...</td>\n",
       "      <td>annoyance</td>\n",
       "      <td>48</td>\n",
       "      <td>2017-08-29</td>\n",
       "      <td>13:55:00</td>\n",
       "      <td>12:00:00</td>\n",
       "    </tr>\n",
       "  </tbody>\n",
       "</table>\n",
       "<p>7872 rows × 11 columns</p>\n",
       "</div>"
      ],
      "text/plain": [
       "                 ID  Likes  Replies  Retweets                Time  \\\n",
       "1      9.010000e+17    0.0      0.0       0.0 2017-08-25 14:44:00   \n",
       "5      9.010000e+17    0.0      0.0       0.0 2017-08-25 14:44:00   \n",
       "8      9.010000e+17    1.0      0.0       0.0 2017-08-25 14:44:00   \n",
       "9      9.010000e+17   37.0      2.0      21.0 2017-08-25 14:44:00   \n",
       "35     9.010000e+17    4.0      0.0       4.0 2017-08-25 14:45:00   \n",
       "...             ...    ...      ...       ...                 ...   \n",
       "98156  9.030000e+17    0.0      0.0       0.0 2017-08-29 13:52:00   \n",
       "98204  9.030000e+17    0.0      0.0       0.0 2017-08-29 13:55:00   \n",
       "98205  9.030000e+17    0.0      0.0       0.0 2017-08-29 13:55:00   \n",
       "98208  9.030000e+17    0.0      0.0       0.0 2017-08-29 13:55:00   \n",
       "98211  9.030000e+17    0.0      0.0       0.0 2017-08-29 13:55:00   \n",
       "\n",
       "                                                   Tweet         Emotion  \\\n",
       "1      If youre able give blood at RedCrossDonate blo...     disapproval   \n",
       "5      Hi Maria Will Bush AirportHobby Expect SuperSt...       curiosity   \n",
       "8      To everyone in TexasPlease get to safety and i...          caring   \n",
       "9      Texans Told to Evacuate Ahead of Hurricane Har...          caring   \n",
       "35     Are you tech ready for hurricaneHurricanePrep ...       curiosity   \n",
       "...                                                  ...             ...   \n",
       "98156  Why we wont be ready for the next Hurricane Ha...       confusion   \n",
       "98204  Houstons hotel market already bad is poised to...  disappointment   \n",
       "98205  Give wisely in the wake of Hurricane Harveys d...          caring   \n",
       "98208  Watching footage and looking at photo of all o...         sadness   \n",
       "98211  You dumb liberalsDont you realize that Hurrica...       annoyance   \n",
       "\n",
       "       Topic_number        Date Timestamp  Time Bin  \n",
       "1                48  2017-08-25  14:44:00  12:00:00  \n",
       "5                19  2017-08-25  14:44:00  12:00:00  \n",
       "8                19  2017-08-25  14:44:00  12:00:00  \n",
       "9                48  2017-08-25  14:44:00  12:00:00  \n",
       "35               48  2017-08-25  14:45:00  12:00:00  \n",
       "...             ...         ...       ...       ...  \n",
       "98156            48  2017-08-29  13:52:00  12:00:00  \n",
       "98204            19  2017-08-29  13:55:00  12:00:00  \n",
       "98205            48  2017-08-29  13:55:00  12:00:00  \n",
       "98208            19  2017-08-29  13:55:00  12:00:00  \n",
       "98211            48  2017-08-29  13:55:00  12:00:00  \n",
       "\n",
       "[7872 rows x 11 columns]"
      ]
     },
     "execution_count": 115,
     "metadata": {},
     "output_type": "execute_result"
    }
   ],
   "source": [
    "data = pd.read_csv(\"Harvey_stressor_with_topics.csv\")\n",
    "\n",
    "topics = [19,25,29,48,52]\n",
    "extracted_data = data.loc[data[\"Topic_number\"].isin(topics)]\n",
    "extracted_data = extracted_data.iloc[:,3:]\n",
    "extracted_data[\"Time\"] = extracted_data[\"Time\"].astype('datetime64[ns]')\n",
    "extracted_data[\"Date\"] = [d.date() for d in extracted_data[\"Time\"]]\n",
    "extracted_data[\"Timestamp\"] = [d.time() for d in extracted_data[\"Time\"]]\n",
    "\n",
    "# define the bins\n",
    "bins = [0, 6, 12, 18, 24]\n",
    "\n",
    "# add custom labels if desired\n",
    "labels = ['00:00:00', '06:00:00', '12:00:00', '18:00:00']\n",
    "\n",
    "# Binning the time\n",
    "extracted_data['Time Bin'] = pd.cut(extracted_data[\"Time\"].dt.hour, bins, labels=labels, right=False)\n",
    "\n",
    "extracted_data"
   ]
  },
  {
   "cell_type": "code",
   "execution_count": 116,
   "metadata": {},
   "outputs": [
    {
     "data": {
      "text/plain": [
       "Topic_number\n",
       "29    1851\n",
       "52    1630\n",
       "19    1616\n",
       "25    1548\n",
       "48    1227\n",
       "Name: count, dtype: int64"
      ]
     },
     "execution_count": 116,
     "metadata": {},
     "output_type": "execute_result"
    }
   ],
   "source": [
    "topic_dist = extracted_data[\"Topic_number\"].value_counts()\n",
    "topic_dist"
   ]
  },
  {
   "cell_type": "code",
   "execution_count": 117,
   "metadata": {},
   "outputs": [
    {
     "data": {
      "text/html": [
       "<div>\n",
       "<style scoped>\n",
       "    .dataframe tbody tr th:only-of-type {\n",
       "        vertical-align: middle;\n",
       "    }\n",
       "\n",
       "    .dataframe tbody tr th {\n",
       "        vertical-align: top;\n",
       "    }\n",
       "\n",
       "    .dataframe thead th {\n",
       "        text-align: right;\n",
       "    }\n",
       "</style>\n",
       "<table border=\"1\" class=\"dataframe\">\n",
       "  <thead>\n",
       "    <tr style=\"text-align: right;\">\n",
       "      <th></th>\n",
       "      <th>Date</th>\n",
       "      <th>Time Bin</th>\n",
       "      <th>Topic_number</th>\n",
       "      <th>count</th>\n",
       "      <th>Time</th>\n",
       "    </tr>\n",
       "  </thead>\n",
       "  <tbody>\n",
       "    <tr>\n",
       "      <th>0</th>\n",
       "      <td>2017-08-22</td>\n",
       "      <td>00:00:00</td>\n",
       "      <td>19</td>\n",
       "      <td>0</td>\n",
       "      <td>2017-08-22 00:00:00</td>\n",
       "    </tr>\n",
       "    <tr>\n",
       "      <th>1</th>\n",
       "      <td>2017-08-22</td>\n",
       "      <td>00:00:00</td>\n",
       "      <td>25</td>\n",
       "      <td>0</td>\n",
       "      <td>2017-08-22 00:00:00</td>\n",
       "    </tr>\n",
       "    <tr>\n",
       "      <th>2</th>\n",
       "      <td>2017-08-22</td>\n",
       "      <td>00:00:00</td>\n",
       "      <td>29</td>\n",
       "      <td>0</td>\n",
       "      <td>2017-08-22 00:00:00</td>\n",
       "    </tr>\n",
       "    <tr>\n",
       "      <th>3</th>\n",
       "      <td>2017-08-22</td>\n",
       "      <td>00:00:00</td>\n",
       "      <td>48</td>\n",
       "      <td>0</td>\n",
       "      <td>2017-08-22 00:00:00</td>\n",
       "    </tr>\n",
       "    <tr>\n",
       "      <th>4</th>\n",
       "      <td>2017-08-22</td>\n",
       "      <td>00:00:00</td>\n",
       "      <td>52</td>\n",
       "      <td>0</td>\n",
       "      <td>2017-08-22 00:00:00</td>\n",
       "    </tr>\n",
       "    <tr>\n",
       "      <th>...</th>\n",
       "      <td>...</td>\n",
       "      <td>...</td>\n",
       "      <td>...</td>\n",
       "      <td>...</td>\n",
       "      <td>...</td>\n",
       "    </tr>\n",
       "    <tr>\n",
       "      <th>155</th>\n",
       "      <td>2017-08-29</td>\n",
       "      <td>18:00:00</td>\n",
       "      <td>19</td>\n",
       "      <td>0</td>\n",
       "      <td>2017-08-29 18:00:00</td>\n",
       "    </tr>\n",
       "    <tr>\n",
       "      <th>156</th>\n",
       "      <td>2017-08-29</td>\n",
       "      <td>18:00:00</td>\n",
       "      <td>25</td>\n",
       "      <td>0</td>\n",
       "      <td>2017-08-29 18:00:00</td>\n",
       "    </tr>\n",
       "    <tr>\n",
       "      <th>157</th>\n",
       "      <td>2017-08-29</td>\n",
       "      <td>18:00:00</td>\n",
       "      <td>29</td>\n",
       "      <td>0</td>\n",
       "      <td>2017-08-29 18:00:00</td>\n",
       "    </tr>\n",
       "    <tr>\n",
       "      <th>158</th>\n",
       "      <td>2017-08-29</td>\n",
       "      <td>18:00:00</td>\n",
       "      <td>48</td>\n",
       "      <td>0</td>\n",
       "      <td>2017-08-29 18:00:00</td>\n",
       "    </tr>\n",
       "    <tr>\n",
       "      <th>159</th>\n",
       "      <td>2017-08-29</td>\n",
       "      <td>18:00:00</td>\n",
       "      <td>52</td>\n",
       "      <td>0</td>\n",
       "      <td>2017-08-29 18:00:00</td>\n",
       "    </tr>\n",
       "  </tbody>\n",
       "</table>\n",
       "<p>160 rows × 5 columns</p>\n",
       "</div>"
      ],
      "text/plain": [
       "           Date  Time Bin Topic_number  count                Time\n",
       "0    2017-08-22  00:00:00           19      0 2017-08-22 00:00:00\n",
       "1    2017-08-22  00:00:00           25      0 2017-08-22 00:00:00\n",
       "2    2017-08-22  00:00:00           29      0 2017-08-22 00:00:00\n",
       "3    2017-08-22  00:00:00           48      0 2017-08-22 00:00:00\n",
       "4    2017-08-22  00:00:00           52      0 2017-08-22 00:00:00\n",
       "..          ...       ...          ...    ...                 ...\n",
       "155  2017-08-29  18:00:00           19      0 2017-08-29 18:00:00\n",
       "156  2017-08-29  18:00:00           25      0 2017-08-29 18:00:00\n",
       "157  2017-08-29  18:00:00           29      0 2017-08-29 18:00:00\n",
       "158  2017-08-29  18:00:00           48      0 2017-08-29 18:00:00\n",
       "159  2017-08-29  18:00:00           52      0 2017-08-29 18:00:00\n",
       "\n",
       "[160 rows x 5 columns]"
      ]
     },
     "execution_count": 117,
     "metadata": {},
     "output_type": "execute_result"
    }
   ],
   "source": [
    "dash_data = extracted_data.groupby(['Date','Time Bin','Topic_number'], as_index=False).size()\n",
    "dash_data[\"Time\"] = dash_data['Date'].astype(str) + ' ' + dash_data['Time Bin'].astype(str)\n",
    "dash_data[\"Time\"] = dash_data[\"Time\"].astype('datetime64[ns]')\n",
    "dash_data[\"Topic_number\"] = dash_data[\"Topic_number\"].astype(str)\n",
    "\n",
    "dash_data.columns.values[3] = \"count\"\n",
    "dash_data"
   ]
  },
  {
   "cell_type": "code",
   "execution_count": 118,
   "metadata": {},
   "outputs": [],
   "source": [
    "dash_data = dash_data.iloc[:,2:]\n",
    "data = dash_data.pivot_table(index=['Time'], columns='Topic_number',values=\"count\").reset_index()\n",
    "data[\"Time\"] = data[\"Time\"].astype('datetime64[ns]')\n",
    "data.to_csv(\"dashboard_data.csv\",index=False)"
   ]
  },
  {
   "cell_type": "code",
   "execution_count": 124,
   "metadata": {},
   "outputs": [
    {
     "data": {
      "application/vnd.plotly.v1+json": {
       "config": {
        "plotlyServerURL": "https://plot.ly"
       },
       "data": [
        {
         "fill": "tozeroy",
         "hovertemplate": "tweet count: %{y}\nTime: %{x}",
         "name": "Topic 19",
         "type": "scatter",
         "x": [
          "2017-08-22 00:00:00",
          "2017-08-22 06:00:00",
          "2017-08-22 12:00:00",
          "2017-08-22 18:00:00",
          "2017-08-23 00:00:00",
          "2017-08-23 06:00:00",
          "2017-08-23 12:00:00",
          "2017-08-23 18:00:00",
          "2017-08-24 00:00:00",
          "2017-08-24 06:00:00",
          "2017-08-24 12:00:00",
          "2017-08-24 18:00:00",
          "2017-08-25 00:00:00",
          "2017-08-25 06:00:00",
          "2017-08-25 12:00:00",
          "2017-08-25 18:00:00",
          "2017-08-26 00:00:00",
          "2017-08-26 06:00:00",
          "2017-08-26 12:00:00",
          "2017-08-26 18:00:00",
          "2017-08-27 00:00:00",
          "2017-08-27 06:00:00",
          "2017-08-27 12:00:00",
          "2017-08-27 18:00:00",
          "2017-08-28 00:00:00",
          "2017-08-28 06:00:00",
          "2017-08-28 12:00:00",
          "2017-08-28 18:00:00",
          "2017-08-29 00:00:00",
          "2017-08-29 06:00:00",
          "2017-08-29 12:00:00",
          "2017-08-29 18:00:00"
         ],
         "y": [
          0,
          0,
          1,
          2,
          0,
          0,
          0,
          2,
          3,
          2,
          29,
          82,
          48,
          13,
          241,
          444,
          368,
          67,
          131,
          48,
          24,
          13,
          29,
          43,
          0,
          0,
          0,
          7,
          0,
          0,
          19,
          0
         ]
        },
        {
         "fill": "tozeroy",
         "hovertemplate": "tweet count: %{y}\nTime: %{x}",
         "name": "Topic 25",
         "type": "scatter",
         "x": [
          "2017-08-22 00:00:00",
          "2017-08-22 06:00:00",
          "2017-08-22 12:00:00",
          "2017-08-22 18:00:00",
          "2017-08-23 00:00:00",
          "2017-08-23 06:00:00",
          "2017-08-23 12:00:00",
          "2017-08-23 18:00:00",
          "2017-08-24 00:00:00",
          "2017-08-24 06:00:00",
          "2017-08-24 12:00:00",
          "2017-08-24 18:00:00",
          "2017-08-25 00:00:00",
          "2017-08-25 06:00:00",
          "2017-08-25 12:00:00",
          "2017-08-25 18:00:00",
          "2017-08-26 00:00:00",
          "2017-08-26 06:00:00",
          "2017-08-26 12:00:00",
          "2017-08-26 18:00:00",
          "2017-08-27 00:00:00",
          "2017-08-27 06:00:00",
          "2017-08-27 12:00:00",
          "2017-08-27 18:00:00",
          "2017-08-28 00:00:00",
          "2017-08-28 06:00:00",
          "2017-08-28 12:00:00",
          "2017-08-28 18:00:00",
          "2017-08-29 00:00:00",
          "2017-08-29 06:00:00",
          "2017-08-29 12:00:00",
          "2017-08-29 18:00:00"
         ],
         "y": [
          0,
          0,
          0,
          0,
          0,
          0,
          0,
          0,
          3,
          0,
          15,
          48,
          40,
          11,
          140,
          273,
          371,
          61,
          126,
          182,
          91,
          29,
          67,
          71,
          0,
          0,
          0,
          4,
          0,
          0,
          16,
          0
         ]
        },
        {
         "fill": "tozeroy",
         "hovertemplate": "tweet count: %{y}\nTime: %{x}",
         "name": "Topic 29",
         "type": "scatter",
         "x": [
          "2017-08-22 00:00:00",
          "2017-08-22 06:00:00",
          "2017-08-22 12:00:00",
          "2017-08-22 18:00:00",
          "2017-08-23 00:00:00",
          "2017-08-23 06:00:00",
          "2017-08-23 12:00:00",
          "2017-08-23 18:00:00",
          "2017-08-24 00:00:00",
          "2017-08-24 06:00:00",
          "2017-08-24 12:00:00",
          "2017-08-24 18:00:00",
          "2017-08-25 00:00:00",
          "2017-08-25 06:00:00",
          "2017-08-25 12:00:00",
          "2017-08-25 18:00:00",
          "2017-08-26 00:00:00",
          "2017-08-26 06:00:00",
          "2017-08-26 12:00:00",
          "2017-08-26 18:00:00",
          "2017-08-27 00:00:00",
          "2017-08-27 06:00:00",
          "2017-08-27 12:00:00",
          "2017-08-27 18:00:00",
          "2017-08-28 00:00:00",
          "2017-08-28 06:00:00",
          "2017-08-28 12:00:00",
          "2017-08-28 18:00:00",
          "2017-08-29 00:00:00",
          "2017-08-29 06:00:00",
          "2017-08-29 12:00:00",
          "2017-08-29 18:00:00"
         ],
         "y": [
          0,
          0,
          0,
          0,
          0,
          0,
          0,
          1,
          0,
          0,
          10,
          20,
          13,
          8,
          221,
          308,
          388,
          139,
          195,
          30,
          8,
          4,
          343,
          135,
          0,
          0,
          0,
          18,
          0,
          0,
          10,
          0
         ]
        },
        {
         "fill": "tozeroy",
         "hovertemplate": "tweet count: %{y}\nTime: %{x}",
         "name": "Topic 48",
         "type": "scatter",
         "x": [
          "2017-08-22 00:00:00",
          "2017-08-22 06:00:00",
          "2017-08-22 12:00:00",
          "2017-08-22 18:00:00",
          "2017-08-23 00:00:00",
          "2017-08-23 06:00:00",
          "2017-08-23 12:00:00",
          "2017-08-23 18:00:00",
          "2017-08-24 00:00:00",
          "2017-08-24 06:00:00",
          "2017-08-24 12:00:00",
          "2017-08-24 18:00:00",
          "2017-08-25 00:00:00",
          "2017-08-25 06:00:00",
          "2017-08-25 12:00:00",
          "2017-08-25 18:00:00",
          "2017-08-26 00:00:00",
          "2017-08-26 06:00:00",
          "2017-08-26 12:00:00",
          "2017-08-26 18:00:00",
          "2017-08-27 00:00:00",
          "2017-08-27 06:00:00",
          "2017-08-27 12:00:00",
          "2017-08-27 18:00:00",
          "2017-08-28 00:00:00",
          "2017-08-28 06:00:00",
          "2017-08-28 12:00:00",
          "2017-08-28 18:00:00",
          "2017-08-29 00:00:00",
          "2017-08-29 06:00:00",
          "2017-08-29 12:00:00",
          "2017-08-29 18:00:00"
         ],
         "y": [
          0,
          0,
          0,
          0,
          0,
          0,
          0,
          0,
          3,
          0,
          10,
          80,
          37,
          14,
          226,
          242,
          283,
          73,
          92,
          23,
          19,
          3,
          21,
          41,
          0,
          0,
          0,
          9,
          0,
          0,
          51,
          0
         ]
        },
        {
         "fill": "tozeroy",
         "hovertemplate": "tweet count: %{y}\nTime: %{x}",
         "name": "Topic 52",
         "type": "scatter",
         "x": [
          "2017-08-22 00:00:00",
          "2017-08-22 06:00:00",
          "2017-08-22 12:00:00",
          "2017-08-22 18:00:00",
          "2017-08-23 00:00:00",
          "2017-08-23 06:00:00",
          "2017-08-23 12:00:00",
          "2017-08-23 18:00:00",
          "2017-08-24 00:00:00",
          "2017-08-24 06:00:00",
          "2017-08-24 12:00:00",
          "2017-08-24 18:00:00",
          "2017-08-25 00:00:00",
          "2017-08-25 06:00:00",
          "2017-08-25 12:00:00",
          "2017-08-25 18:00:00",
          "2017-08-26 00:00:00",
          "2017-08-26 06:00:00",
          "2017-08-26 12:00:00",
          "2017-08-26 18:00:00",
          "2017-08-27 00:00:00",
          "2017-08-27 06:00:00",
          "2017-08-27 12:00:00",
          "2017-08-27 18:00:00",
          "2017-08-28 00:00:00",
          "2017-08-28 06:00:00",
          "2017-08-28 12:00:00",
          "2017-08-28 18:00:00",
          "2017-08-29 00:00:00",
          "2017-08-29 06:00:00",
          "2017-08-29 12:00:00",
          "2017-08-29 18:00:00"
         ],
         "y": [
          0,
          0,
          0,
          0,
          0,
          0,
          1,
          0,
          1,
          0,
          8,
          26,
          22,
          11,
          280,
          491,
          331,
          50,
          166,
          95,
          31,
          12,
          36,
          48,
          0,
          0,
          0,
          3,
          0,
          0,
          18,
          0
         ]
        }
       ],
       "layout": {
        "autosize": false,
        "height": 640,
        "margin": {
         "b": 100,
         "l": 50,
         "pad": 4,
         "r": 50,
         "t": 100
        },
        "template": {
         "data": {
          "bar": [
           {
            "error_x": {
             "color": "#2a3f5f"
            },
            "error_y": {
             "color": "#2a3f5f"
            },
            "marker": {
             "line": {
              "color": "#E5ECF6",
              "width": 0.5
             },
             "pattern": {
              "fillmode": "overlay",
              "size": 10,
              "solidity": 0.2
             }
            },
            "type": "bar"
           }
          ],
          "barpolar": [
           {
            "marker": {
             "line": {
              "color": "#E5ECF6",
              "width": 0.5
             },
             "pattern": {
              "fillmode": "overlay",
              "size": 10,
              "solidity": 0.2
             }
            },
            "type": "barpolar"
           }
          ],
          "carpet": [
           {
            "aaxis": {
             "endlinecolor": "#2a3f5f",
             "gridcolor": "white",
             "linecolor": "white",
             "minorgridcolor": "white",
             "startlinecolor": "#2a3f5f"
            },
            "baxis": {
             "endlinecolor": "#2a3f5f",
             "gridcolor": "white",
             "linecolor": "white",
             "minorgridcolor": "white",
             "startlinecolor": "#2a3f5f"
            },
            "type": "carpet"
           }
          ],
          "choropleth": [
           {
            "colorbar": {
             "outlinewidth": 0,
             "ticks": ""
            },
            "type": "choropleth"
           }
          ],
          "contour": [
           {
            "colorbar": {
             "outlinewidth": 0,
             "ticks": ""
            },
            "colorscale": [
             [
              0,
              "#0d0887"
             ],
             [
              0.1111111111111111,
              "#46039f"
             ],
             [
              0.2222222222222222,
              "#7201a8"
             ],
             [
              0.3333333333333333,
              "#9c179e"
             ],
             [
              0.4444444444444444,
              "#bd3786"
             ],
             [
              0.5555555555555556,
              "#d8576b"
             ],
             [
              0.6666666666666666,
              "#ed7953"
             ],
             [
              0.7777777777777778,
              "#fb9f3a"
             ],
             [
              0.8888888888888888,
              "#fdca26"
             ],
             [
              1,
              "#f0f921"
             ]
            ],
            "type": "contour"
           }
          ],
          "contourcarpet": [
           {
            "colorbar": {
             "outlinewidth": 0,
             "ticks": ""
            },
            "type": "contourcarpet"
           }
          ],
          "heatmap": [
           {
            "colorbar": {
             "outlinewidth": 0,
             "ticks": ""
            },
            "colorscale": [
             [
              0,
              "#0d0887"
             ],
             [
              0.1111111111111111,
              "#46039f"
             ],
             [
              0.2222222222222222,
              "#7201a8"
             ],
             [
              0.3333333333333333,
              "#9c179e"
             ],
             [
              0.4444444444444444,
              "#bd3786"
             ],
             [
              0.5555555555555556,
              "#d8576b"
             ],
             [
              0.6666666666666666,
              "#ed7953"
             ],
             [
              0.7777777777777778,
              "#fb9f3a"
             ],
             [
              0.8888888888888888,
              "#fdca26"
             ],
             [
              1,
              "#f0f921"
             ]
            ],
            "type": "heatmap"
           }
          ],
          "heatmapgl": [
           {
            "colorbar": {
             "outlinewidth": 0,
             "ticks": ""
            },
            "colorscale": [
             [
              0,
              "#0d0887"
             ],
             [
              0.1111111111111111,
              "#46039f"
             ],
             [
              0.2222222222222222,
              "#7201a8"
             ],
             [
              0.3333333333333333,
              "#9c179e"
             ],
             [
              0.4444444444444444,
              "#bd3786"
             ],
             [
              0.5555555555555556,
              "#d8576b"
             ],
             [
              0.6666666666666666,
              "#ed7953"
             ],
             [
              0.7777777777777778,
              "#fb9f3a"
             ],
             [
              0.8888888888888888,
              "#fdca26"
             ],
             [
              1,
              "#f0f921"
             ]
            ],
            "type": "heatmapgl"
           }
          ],
          "histogram": [
           {
            "marker": {
             "pattern": {
              "fillmode": "overlay",
              "size": 10,
              "solidity": 0.2
             }
            },
            "type": "histogram"
           }
          ],
          "histogram2d": [
           {
            "colorbar": {
             "outlinewidth": 0,
             "ticks": ""
            },
            "colorscale": [
             [
              0,
              "#0d0887"
             ],
             [
              0.1111111111111111,
              "#46039f"
             ],
             [
              0.2222222222222222,
              "#7201a8"
             ],
             [
              0.3333333333333333,
              "#9c179e"
             ],
             [
              0.4444444444444444,
              "#bd3786"
             ],
             [
              0.5555555555555556,
              "#d8576b"
             ],
             [
              0.6666666666666666,
              "#ed7953"
             ],
             [
              0.7777777777777778,
              "#fb9f3a"
             ],
             [
              0.8888888888888888,
              "#fdca26"
             ],
             [
              1,
              "#f0f921"
             ]
            ],
            "type": "histogram2d"
           }
          ],
          "histogram2dcontour": [
           {
            "colorbar": {
             "outlinewidth": 0,
             "ticks": ""
            },
            "colorscale": [
             [
              0,
              "#0d0887"
             ],
             [
              0.1111111111111111,
              "#46039f"
             ],
             [
              0.2222222222222222,
              "#7201a8"
             ],
             [
              0.3333333333333333,
              "#9c179e"
             ],
             [
              0.4444444444444444,
              "#bd3786"
             ],
             [
              0.5555555555555556,
              "#d8576b"
             ],
             [
              0.6666666666666666,
              "#ed7953"
             ],
             [
              0.7777777777777778,
              "#fb9f3a"
             ],
             [
              0.8888888888888888,
              "#fdca26"
             ],
             [
              1,
              "#f0f921"
             ]
            ],
            "type": "histogram2dcontour"
           }
          ],
          "mesh3d": [
           {
            "colorbar": {
             "outlinewidth": 0,
             "ticks": ""
            },
            "type": "mesh3d"
           }
          ],
          "parcoords": [
           {
            "line": {
             "colorbar": {
              "outlinewidth": 0,
              "ticks": ""
             }
            },
            "type": "parcoords"
           }
          ],
          "pie": [
           {
            "automargin": true,
            "type": "pie"
           }
          ],
          "scatter": [
           {
            "fillpattern": {
             "fillmode": "overlay",
             "size": 10,
             "solidity": 0.2
            },
            "type": "scatter"
           }
          ],
          "scatter3d": [
           {
            "line": {
             "colorbar": {
              "outlinewidth": 0,
              "ticks": ""
             }
            },
            "marker": {
             "colorbar": {
              "outlinewidth": 0,
              "ticks": ""
             }
            },
            "type": "scatter3d"
           }
          ],
          "scattercarpet": [
           {
            "marker": {
             "colorbar": {
              "outlinewidth": 0,
              "ticks": ""
             }
            },
            "type": "scattercarpet"
           }
          ],
          "scattergeo": [
           {
            "marker": {
             "colorbar": {
              "outlinewidth": 0,
              "ticks": ""
             }
            },
            "type": "scattergeo"
           }
          ],
          "scattergl": [
           {
            "marker": {
             "colorbar": {
              "outlinewidth": 0,
              "ticks": ""
             }
            },
            "type": "scattergl"
           }
          ],
          "scattermapbox": [
           {
            "marker": {
             "colorbar": {
              "outlinewidth": 0,
              "ticks": ""
             }
            },
            "type": "scattermapbox"
           }
          ],
          "scatterpolar": [
           {
            "marker": {
             "colorbar": {
              "outlinewidth": 0,
              "ticks": ""
             }
            },
            "type": "scatterpolar"
           }
          ],
          "scatterpolargl": [
           {
            "marker": {
             "colorbar": {
              "outlinewidth": 0,
              "ticks": ""
             }
            },
            "type": "scatterpolargl"
           }
          ],
          "scatterternary": [
           {
            "marker": {
             "colorbar": {
              "outlinewidth": 0,
              "ticks": ""
             }
            },
            "type": "scatterternary"
           }
          ],
          "surface": [
           {
            "colorbar": {
             "outlinewidth": 0,
             "ticks": ""
            },
            "colorscale": [
             [
              0,
              "#0d0887"
             ],
             [
              0.1111111111111111,
              "#46039f"
             ],
             [
              0.2222222222222222,
              "#7201a8"
             ],
             [
              0.3333333333333333,
              "#9c179e"
             ],
             [
              0.4444444444444444,
              "#bd3786"
             ],
             [
              0.5555555555555556,
              "#d8576b"
             ],
             [
              0.6666666666666666,
              "#ed7953"
             ],
             [
              0.7777777777777778,
              "#fb9f3a"
             ],
             [
              0.8888888888888888,
              "#fdca26"
             ],
             [
              1,
              "#f0f921"
             ]
            ],
            "type": "surface"
           }
          ],
          "table": [
           {
            "cells": {
             "fill": {
              "color": "#EBF0F8"
             },
             "line": {
              "color": "white"
             }
            },
            "header": {
             "fill": {
              "color": "#C8D4E3"
             },
             "line": {
              "color": "white"
             }
            },
            "type": "table"
           }
          ]
         },
         "layout": {
          "annotationdefaults": {
           "arrowcolor": "#2a3f5f",
           "arrowhead": 0,
           "arrowwidth": 1
          },
          "autotypenumbers": "strict",
          "coloraxis": {
           "colorbar": {
            "outlinewidth": 0,
            "ticks": ""
           }
          },
          "colorscale": {
           "diverging": [
            [
             0,
             "#8e0152"
            ],
            [
             0.1,
             "#c51b7d"
            ],
            [
             0.2,
             "#de77ae"
            ],
            [
             0.3,
             "#f1b6da"
            ],
            [
             0.4,
             "#fde0ef"
            ],
            [
             0.5,
             "#f7f7f7"
            ],
            [
             0.6,
             "#e6f5d0"
            ],
            [
             0.7,
             "#b8e186"
            ],
            [
             0.8,
             "#7fbc41"
            ],
            [
             0.9,
             "#4d9221"
            ],
            [
             1,
             "#276419"
            ]
           ],
           "sequential": [
            [
             0,
             "#0d0887"
            ],
            [
             0.1111111111111111,
             "#46039f"
            ],
            [
             0.2222222222222222,
             "#7201a8"
            ],
            [
             0.3333333333333333,
             "#9c179e"
            ],
            [
             0.4444444444444444,
             "#bd3786"
            ],
            [
             0.5555555555555556,
             "#d8576b"
            ],
            [
             0.6666666666666666,
             "#ed7953"
            ],
            [
             0.7777777777777778,
             "#fb9f3a"
            ],
            [
             0.8888888888888888,
             "#fdca26"
            ],
            [
             1,
             "#f0f921"
            ]
           ],
           "sequentialminus": [
            [
             0,
             "#0d0887"
            ],
            [
             0.1111111111111111,
             "#46039f"
            ],
            [
             0.2222222222222222,
             "#7201a8"
            ],
            [
             0.3333333333333333,
             "#9c179e"
            ],
            [
             0.4444444444444444,
             "#bd3786"
            ],
            [
             0.5555555555555556,
             "#d8576b"
            ],
            [
             0.6666666666666666,
             "#ed7953"
            ],
            [
             0.7777777777777778,
             "#fb9f3a"
            ],
            [
             0.8888888888888888,
             "#fdca26"
            ],
            [
             1,
             "#f0f921"
            ]
           ]
          },
          "colorway": [
           "#636efa",
           "#EF553B",
           "#00cc96",
           "#ab63fa",
           "#FFA15A",
           "#19d3f3",
           "#FF6692",
           "#B6E880",
           "#FF97FF",
           "#FECB52"
          ],
          "font": {
           "color": "#2a3f5f"
          },
          "geo": {
           "bgcolor": "white",
           "lakecolor": "white",
           "landcolor": "#E5ECF6",
           "showlakes": true,
           "showland": true,
           "subunitcolor": "white"
          },
          "hoverlabel": {
           "align": "left"
          },
          "hovermode": "closest",
          "mapbox": {
           "style": "light"
          },
          "paper_bgcolor": "white",
          "plot_bgcolor": "#E5ECF6",
          "polar": {
           "angularaxis": {
            "gridcolor": "white",
            "linecolor": "white",
            "ticks": ""
           },
           "bgcolor": "#E5ECF6",
           "radialaxis": {
            "gridcolor": "white",
            "linecolor": "white",
            "ticks": ""
           }
          },
          "scene": {
           "xaxis": {
            "backgroundcolor": "#E5ECF6",
            "gridcolor": "white",
            "gridwidth": 2,
            "linecolor": "white",
            "showbackground": true,
            "ticks": "",
            "zerolinecolor": "white"
           },
           "yaxis": {
            "backgroundcolor": "#E5ECF6",
            "gridcolor": "white",
            "gridwidth": 2,
            "linecolor": "white",
            "showbackground": true,
            "ticks": "",
            "zerolinecolor": "white"
           },
           "zaxis": {
            "backgroundcolor": "#E5ECF6",
            "gridcolor": "white",
            "gridwidth": 2,
            "linecolor": "white",
            "showbackground": true,
            "ticks": "",
            "zerolinecolor": "white"
           }
          },
          "shapedefaults": {
           "line": {
            "color": "#2a3f5f"
           }
          },
          "ternary": {
           "aaxis": {
            "gridcolor": "white",
            "linecolor": "white",
            "ticks": ""
           },
           "baxis": {
            "gridcolor": "white",
            "linecolor": "white",
            "ticks": ""
           },
           "bgcolor": "#E5ECF6",
           "caxis": {
            "gridcolor": "white",
            "linecolor": "white",
            "ticks": ""
           }
          },
          "title": {
           "x": 0.05
          },
          "xaxis": {
           "automargin": true,
           "gridcolor": "white",
           "linecolor": "white",
           "ticks": "",
           "title": {
            "standoff": 15
           },
           "zerolinecolor": "white",
           "zerolinewidth": 2
          },
          "yaxis": {
           "automargin": true,
           "gridcolor": "white",
           "linecolor": "white",
           "ticks": "",
           "title": {
            "standoff": 15
           },
           "zerolinecolor": "white",
           "zerolinewidth": 2
          }
         }
        },
        "width": 1600,
        "xaxis": {
         "dtick": 21600000,
         "linecolor": "black",
         "linewidth": 1,
         "mirror": true,
         "tickformat": "%H:%M \n %b %d",
         "ticklabelmode": "period",
         "ticks": "inside"
        },
        "yaxis": {
         "linecolor": "black",
         "linewidth": 1,
         "mirror": true
        }
       }
      }
     },
     "metadata": {},
     "output_type": "display_data"
    }
   ],
   "source": [
    "import plotly.graph_objects as go\n",
    "import pandas as pd\n",
    "\n",
    "\n",
    "data = pd.read_csv(\"dashboard_data.csv\")\n",
    "layout = go.Layout(\n",
    "    autosize=False,\n",
    "    width=1600,\n",
    "    height=640,\n",
    "    xaxis=go.layout.XAxis(linecolor=\"black\", linewidth=1, mirror=True),\n",
    "    yaxis=go.layout.YAxis(linecolor=\"black\", linewidth=1, mirror=True),\n",
    "    margin=go.layout.Margin(l=50, r=50, b=100, t=100, pad=4),\n",
    ")\n",
    "\n",
    "\n",
    "fig = go.Figure(layout= layout)\n",
    "\n",
    "fig.add_trace(go.Scatter(x=data[\"Time\"], y=data[\"19\"], fill='tozeroy',name=\"Topic 19\",\n",
    "                        hovertemplate ='tweet count: %{y}\\n'+'Time: %{x}'))\n",
    "fig.add_trace(go.Scatter(x=data[\"Time\"], y=data[\"25\"], fill='tozeroy',name=\"Topic 25\",\n",
    "                        hovertemplate ='tweet count: %{y}\\n'+'Time: %{x}'))\n",
    "fig.add_trace(go.Scatter(x=data[\"Time\"], y=data[\"29\"], fill='tozeroy',name=\"Topic 29\",\n",
    "                        hovertemplate ='tweet count: %{y}\\n'+'Time: %{x}'))\n",
    "fig.add_trace(go.Scatter(x=data[\"Time\"], y=data[\"48\"], fill='tozeroy',name=\"Topic 48\",\n",
    "                        hovertemplate ='tweet count: %{y}\\n'+'Time: %{x}')) \n",
    "fig.add_trace(go.Scatter(x=data[\"Time\"], y=data[\"52\"], fill='tozeroy',name=\"Topic 52\",\n",
    "                        hovertemplate ='tweet count: %{y}\\n'+'Time: %{x}'))\n",
    "\n",
    "fig.update_xaxes(\n",
    "    dtick=21600000,\n",
    "    tickformat=\"%H:%M \\n %b %d\",\n",
    "    ticklabelmode=\"period\",\n",
    "    ticks=\"inside\",\n",
    "\n",
    ")\n",
    "\n",
    "\n",
    "fig.show()\n",
    "fig.write_html(\"file.html\")"
   ]
  },
  {
   "cell_type": "code",
   "execution_count": 120,
   "metadata": {},
   "outputs": [],
   "source": [
    "# from dash import Dash, dcc, html, Input, Output\n",
    "# import plotly.express as px\n",
    "\n",
    "# app = Dash(__name__)\n",
    "\n",
    "\n",
    "# app.layout = html.Div([\n",
    "#     html.H4('Test analysis'),\n",
    "#     dcc.Graph(id=\"time-series-chart\"),\n",
    "#     html.P(\"Select Topic:\"),\n",
    "#     dcc.Dropdown(\n",
    "#         id=\"ticker\",\n",
    "#         options=[19,25,29,48,52],\n",
    "#         value=19,\n",
    "#         clearable=False,\n",
    "#     ),\n",
    "# ])\n",
    "\n",
    "\n",
    "# @app.callback(\n",
    "#     Output(\"time-series-chart\", \"figure\"), \n",
    "#     Input(\"ticker\", \"value\"))\n",
    "# def display_time_series(ticker):\n",
    "#     df = data # replace with your own data source\n",
    "#     fig = px.area(df, x='Time', y=ticker)\n",
    "#     return fig\n",
    "\n",
    "\n",
    "# app.run_server(debug=True)"
   ]
  }
 ],
 "metadata": {
  "kernelspec": {
   "display_name": "Python 3",
   "language": "python",
   "name": "python3"
  },
  "language_info": {
   "codemirror_mode": {
    "name": "ipython",
    "version": 3
   },
   "file_extension": ".py",
   "mimetype": "text/x-python",
   "name": "python",
   "nbconvert_exporter": "python",
   "pygments_lexer": "ipython3",
   "version": "3.9.17"
  },
  "orig_nbformat": 4
 },
 "nbformat": 4,
 "nbformat_minor": 2
}
